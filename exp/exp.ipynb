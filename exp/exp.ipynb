{
 "cells": [
  {
   "cell_type": "code",
   "execution_count": 2,
   "id": "783475c7-e18d-4a73-b9a7-986a96e21920",
   "metadata": {},
   "outputs": [],
   "source": [
    "import matplotlib.pyplot as plt"
   ]
  },
  {
   "cell_type": "code",
   "execution_count": 7,
   "id": "7658998e-7f51-4f62-a115-b177c77c8449",
   "metadata": {},
   "outputs": [],
   "source": [
    "xaxis = []\n",
    "y1axis = []\n",
    "y2axis = []\n",
    "with open(\"exp.txt\", \"r\") as f:\n",
    "    lines = f.readlines()\n",
    "    for line in lines:\n",
    "        generation, _, best, avg = line.split(',')\n",
    "        xaxis.append(int(generation))\n",
    "        y1axis.append(float(best))\n",
    "        y2axis.append(float(avg))"
   ]
  },
  {
   "cell_type": "code",
   "execution_count": 9,
   "id": "e3e2c8bb-38a2-427b-ace9-4c80f6dcb64f",
   "metadata": {},
   "outputs": [],
   "source": [
    "xaxis = []\n",
    "y1axis = []\n",
    "y2axis = []\n",
    "with open(\"exp2.txt\", \"r\") as f:\n",
    "    lines = f.readlines()\n",
    "    for line in lines:\n",
    "        generation, best, avg = line.split(' ')\n",
    "        xaxis.append(int(generation))\n",
    "        y1axis.append(float(best))\n",
    "        y2axis.append(float(avg))"
   ]
  },
  {
   "cell_type": "code",
   "execution_count": 10,
   "id": "a4ae1aa0-7b1f-4433-8536-ee904d196b65",
   "metadata": {},
   "outputs": [
    {
     "data": {
      "image/png": "[encoded data removed]",
      "text/plain": [
       "<Figure size 432x288 with 1 Axes>"
      ]
     },
     "metadata": {
      "needs_background": "light"
     },
     "output_type": "display_data"
    }
   ],
   "source": [
    "plt.title(\"Per generation graph\")\n",
    "plt.plot(xaxis, y1axis)\n",
    "plt.plot(xaxis, y2axis)\n",
    "plt.xlabel('generation')\n",
    "plt.ylabel('value')\n",
    "plt.savefig('./exp.png')\n",
    "plt.show()"
   ]
  }
 ],
 "metadata": {
  "kernelspec": {
   "display_name": "Python 3 (ipykernel)",
   "language": "python",
   "name": "python3"
  },
  "language_info": {
   "codemirror_mode": {
    "name": "ipython",
    "version": 3
   },
   "file_extension": ".py",
   "mimetype": "text/x-python",
   "name": "python",
   "nbconvert_exporter": "python",
   "pygments_lexer": "ipython3",
   "version": "3.9.12"
  }
 },
 "nbformat": 4,
 "nbformat_minor": 5
}
