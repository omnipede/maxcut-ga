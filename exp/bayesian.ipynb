{
 "cells": [
  {
   "cell_type": "code",
   "execution_count": 1,
   "id": "87e7a886-f2ea-434a-a012-ff4a479e2c36",
   "metadata": {},
   "outputs": [],
   "source": [
    "from bayes_opt import BayesianOptimization"
   ]
  },
  {
   "cell_type": "code",
   "execution_count": 2,
   "id": "b6178301-9f6b-4725-9f73-b52aac75cb3a",
   "metadata": {},
   "outputs": [],
   "source": [
    "import subprocess\n",
    "import os\n",
    "\n",
    "def maxcut(ct, sp, pn):\n",
    "    pn = int(pn)\n",
    "    location = '/Users/seohyeongyu/Desktop/work/ga/maxcut-opt'\n",
    "    input_files = {\n",
    "        'input/unweighted_500.txt': 3314, \n",
    "        'input/weighted_500.txt': 4743, \n",
    "        'input/weighted_chimera_297.txt': 9340\n",
    "    }\n",
    "    \n",
    "    result = 0\n",
    "    for input_file, optimal_value in input_files.items():\n",
    "        exe_file = os.path.join(location, 'maxcut')\n",
    "        in_file = os.path.join(location, input_file)\n",
    "        out_file = os.path.join(location, 'maxcut.out')\n",
    "    \n",
    "        s = 0\n",
    "        for i in range(5):\n",
    "            subprocess.call(f'{exe_file} -i {in_file} -o {out_file} -c {ct} -s {sp} -p {pn}', shell=True)\n",
    "\n",
    "            with open(out_file, 'r') as f:\n",
    "                line = f.readline()\n",
    "                s += int(line)\n",
    "        avg = s / 5\n",
    "        print(avg)\n",
    "        result += (avg)\n",
    "    return result"
   ]
  },
  {
   "cell_type": "code",
   "execution_count": 3,
   "id": "d902d99c-387f-4278-b4ba-d5386476e6d3",
   "metadata": {},
   "outputs": [],
   "source": [
    "import subprocess\n",
    "import os\n",
    "\n",
    "def maxcut_simple(ct, sp, pn):\n",
    "    pn = int(pn)\n",
    "    location = '/Users/seohyeongyu/Desktop/work/ga/maxcut-opt'\n",
    "    \n",
    "    exe_file = os.path.join(location, 'maxcut')\n",
    "    in_file = os.path.join(location, 'input/unweighted_500.txt')\n",
    "    out_file = os.path.join(location, 'maxcut.out')\n",
    "    \n",
    "    result = 0\n",
    "    subprocess.call(f'{exe_file} -i {in_file} -o {out_file} -c {ct} -s {sp} -p {pn}', shell=True)\n",
    "    with open(out_file, 'r') as f:\n",
    "        line = f.readline()\n",
    "        result = int(line)\n",
    "    return result"
   ]
  },
  {
   "cell_type": "code",
   "execution_count": null,
   "id": "da8d4fd6-a0a3-4692-a33f-76169399d9ee",
   "metadata": {},
   "outputs": [
    {
     "name": "stdout",
     "output_type": "stream",
     "text": [
      "|   iter    |  target   |    ct     |    pn     |    sp     |\n",
      "-------------------------------------------------------------\n",
      "2790.4\n",
      "3655.8\n",
      "8438.4\n",
      "| \u001b[0m 1       \u001b[0m | \u001b[0m 1.488e+0\u001b[0m | \u001b[0m 0.4336  \u001b[0m | \u001b[0m 734.3   \u001b[0m | \u001b[0m 3.0     \u001b[0m |\n",
      "3214.4\n",
      "4555.4\n",
      "8574.4\n",
      "| \u001b[95m 2       \u001b[0m | \u001b[95m 1.634e+0\u001b[0m | \u001b[95m 0.3419  \u001b[0m | \u001b[95m 189.4   \u001b[0m | \u001b[95m 3.092   \u001b[0m |\n"
     ]
    }
   ],
   "source": [
    "pbounds = { 'ct': (0.1, 0.9), 'sp': (3.0, 4.0), 'pn': (50, 1000) }\n",
    "\n",
    "optimizer = BayesianOptimization(\n",
    "    f=maxcut,\n",
    "    pbounds=pbounds,\n",
    "    verbose=2,\n",
    "    random_state=1,\n",
    ")\n",
    "\n",
    "optimizer.maximize(\n",
    "    init_points=10,\n",
    "    n_iter=1000,\n",
    ")"
   ]
  }
 ],
 "metadata": {
  "kernelspec": {
   "display_name": "Python 3 (ipykernel)",
   "language": "python",
   "name": "python3"
  },
  "language_info": {
   "codemirror_mode": {
    "name": "ipython",
    "version": 3
   },
   "file_extension": ".py",
   "mimetype": "text/x-python",
   "name": "python",
   "nbconvert_exporter": "python",
   "pygments_lexer": "ipython3",
   "version": "3.9.12"
  }
 },
 "nbformat": 4,
 "nbformat_minor": 5
}
